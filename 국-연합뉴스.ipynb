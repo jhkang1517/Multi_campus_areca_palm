{
 "cells": [
  {
   "cell_type": "code",
   "execution_count": null,
   "metadata": {},
   "outputs": [],
   "source": [
    "import scrapy\n",
    "from urllib import parse\n",
    "\n",
    "class YonhapSpider(scrapy.Spider):\n",
    "    name = 'yonhap'\n",
    "    allowed_domains = ['news.einfomax.co.kr']\n",
    "    start_urls=[]\n",
    "    for i in range(4000):\n",
    "        i=str(i)\n",
    "        urls = 'http://news.einfomax.co.kr/news/articleList.html?page='+i+'&total=119956&box_idxno=&sc_area=A&view_type=sm&sc_word=%EA%B8%88%EB%A6%AC'\n",
    "        start_urls.append(urls)\n",
    "\n",
    "        def parse(self, response):\n",
    "             \n",
    "            for qu in response.css('div.list-block'):\n",
    "                link=qu.css('a::attr(href)').get()\n",
    "                next_page = link\n",
    "            #if next_page is not None:\n",
    "                yield response.follow(next_page, callback=self.pse)    \n",
    "            \n",
    "        def pse(self, response):   \n",
    "            yield {\n",
    "                    'title': response.css('div.article-head-title::text').get(),\n",
    "                    'content': response.css('div#article-view-content-div::text').getall(),\n",
    "                    'date':response.css('div.info-text ul.no-bullet li::text').getall()[1]\n",
    "                    }\n",
    "\n"
   ]
  }
 ],
 "metadata": {
  "kernelspec": {
   "display_name": "Python 3",
   "language": "python",
   "name": "python3"
  },
  "language_info": {
   "codemirror_mode": {
    "name": "ipython",
    "version": 3
   },
   "file_extension": ".py",
   "mimetype": "text/x-python",
   "name": "python",
   "nbconvert_exporter": "python",
   "pygments_lexer": "ipython3",
   "version": "3.7.3"
  }
 },
 "nbformat": 4,
 "nbformat_minor": 2
}
